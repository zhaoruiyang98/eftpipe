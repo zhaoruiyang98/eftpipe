{
 "cells": [
  {
   "cell_type": "code",
   "execution_count": 1,
   "metadata": {},
   "outputs": [],
   "source": [
    "from __future__ import annotations\n",
    "import numpy as np\n",
    "import matplotlib.pyplot as plt\n",
    "from pathlib import Path"
   ]
  },
  {
   "cell_type": "code",
   "execution_count": 2,
   "metadata": {},
   "outputs": [],
   "source": [
    "ROOT = Path(\"~/source/project/parity/data\").expanduser().resolve()\n",
    "HEDAER = \"RA DEC Z WEIGHT_ALL WEIGHT_ALL_NOFKP WEIGHT_FKP NZ\""
   ]
  },
  {
   "cell_type": "code",
   "execution_count": 9,
   "metadata": {},
   "outputs": [],
   "source": [
    "def compute_normalization_factor(\n",
    "    data_path, random_path, zmin: float, zmax: float, title: str = \"\"\n",
    "):\n",
    "    print(\"-\" * 80)\n",
    "    print(title)\n",
    "    print()\n",
    "    dat = np.load(data_path)[\"data\"]\n",
    "    mask = (dat[:, 2] >= zmin) & (dat[:, 2] <= zmax)\n",
    "    dat = dat[mask]\n",
    "    print(f\"Ndata={dat.shape[0]}\")\n",
    "    print(f\"weighted Ndata={dat[:, 3].sum()}\")\n",
    "    ran = np.load(random_path)[\"data\"]\n",
    "    mask = (ran[:, 2] >= zmin) & (ran[:, 2] <= zmax)\n",
    "    ran = ran[mask]\n",
    "    print(f\"Nrandom={ran.shape[0]}\")\n",
    "    print(f\"weighted Nrandom={ran[:, 3].sum()}\")\n",
    "    alpha = dat[:, 3].sum() / ran[:, 3].sum()\n",
    "    print(f\"{alpha=}\")\n",
    "    norm = alpha * (ran[:, 3]**2 * ran[:, -1]).sum()\n",
    "    print(f\"{norm=}\")\n",
    "    print(\"-\" * 80)\n",
    "    return norm"
   ]
  },
  {
   "cell_type": "code",
   "execution_count": 11,
   "metadata": {},
   "outputs": [],
   "source": [
    "Inorm = {}"
   ]
  },
  {
   "cell_type": "code",
   "execution_count": 13,
   "metadata": {},
   "outputs": [
    {
     "name": "stdout",
     "output_type": "stream",
     "text": [
      "--------------------------------------------------------------------------------\n",
      "data LRG NGC\n",
      "\n",
      "Ndata=255741\n",
      "weighted Ndata=126763.18662407306\n",
      "Nrandom=13180418\n",
      "weighted Nrandom=6203321.352952731\n",
      "alpha=0.02043472833528684\n",
      "norm=6.178544514228104\n",
      "--------------------------------------------------------------------------------\n",
      "--------------------------------------------------------------------------------\n",
      "data LRG SGC\n",
      "\n",
      "Ndata=121717\n",
      "weighted Ndata=58854.46695552451\n",
      "Nrandom=6065434\n",
      "weighted Nrandom=2769143.9992457842\n",
      "alpha=0.021253667910211372\n",
      "norm=3.0015458205664833\n",
      "--------------------------------------------------------------------------------\n",
      "--------------------------------------------------------------------------------\n",
      "data ELG NGC\n",
      "\n",
      "Ndata=83769\n",
      "weighted Ndata=45367.238643680226\n",
      "Nrandom=3728363\n",
      "weighted Nrandom=1643817.6910168717\n",
      "alpha=0.027598704461938163\n",
      "norm=5.420129406342738\n",
      "--------------------------------------------------------------------------------\n",
      "--------------------------------------------------------------------------------\n",
      "data ELG SGC\n",
      "\n",
      "Ndata=89967\n",
      "weighted Ndata=44901.410667160126\n",
      "Nrandom=3609460\n",
      "weighted Nrandom=1626939.073501961\n",
      "alpha=0.02759870446193817\n",
      "norm=5.929721759936262\n",
      "--------------------------------------------------------------------------------\n"
     ]
    }
   ],
   "source": [
    "Inorm[\"data.LRG.NGC\"] = compute_normalization_factor(\n",
    "    ROOT / \"eBOSS_LRGpCMASS_clustering_NGC_vDR16.dat.npz\",\n",
    "    ROOT / \"eBOSS_LRGpCMASS_clustering_NGC_vDR16.ran.npz\",\n",
    "    0.6, 1.0, \"data LRG NGC\"\n",
    ")\n",
    "Inorm[\"data.LRG.SGC\"] = compute_normalization_factor(\n",
    "    ROOT / \"eBOSS_LRGpCMASS_clustering_SGC_vDR16.dat.npz\",\n",
    "    ROOT / \"eBOSS_LRGpCMASS_clustering_SGC_vDR16.ran.npz\",\n",
    "    0.6, 1.0, \"data LRG SGC\"\n",
    ")\n",
    "Inorm[\"data.ELG.NGC\"] = compute_normalization_factor(\n",
    "    ROOT / \"eBOSS_ELG_clustering_NGC_vDR16.dat.npz\",\n",
    "    ROOT / \"eBOSS_ELG_clustering_NGC_vDR16.ran.npz\",\n",
    "    0.6, 1.1, \"data ELG NGC\"\n",
    ")\n",
    "Inorm[\"data.ELG.SGC\"] = compute_normalization_factor(\n",
    "    ROOT / \"eBOSS_ELG_clustering_SGC_vDR16.dat.npz\",\n",
    "    ROOT / \"eBOSS_ELG_clustering_SGC_vDR16.ran.npz\",\n",
    "    0.6, 1.1, \"data ELG SGC\"\n",
    ")"
   ]
  },
  {
   "cell_type": "code",
   "execution_count": null,
   "metadata": {},
   "outputs": [],
   "source": []
  }
 ],
 "metadata": {
  "kernelspec": {
   "display_name": "eftpipe-dev",
   "language": "python",
   "name": "python3"
  },
  "language_info": {
   "codemirror_mode": {
    "name": "ipython",
    "version": 3
   },
   "file_extension": ".py",
   "mimetype": "text/x-python",
   "name": "python",
   "nbconvert_exporter": "python",
   "pygments_lexer": "ipython3",
   "version": "3.8.13"
  },
  "orig_nbformat": 4,
  "vscode": {
   "interpreter": {
    "hash": "63face7343611671162714d919c173bb350bddb53488fc864c6ae312444ea285"
   }
  }
 },
 "nbformat": 4,
 "nbformat_minor": 2
}
